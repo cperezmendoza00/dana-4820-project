{
 "cells": [
  {
   "cell_type": "code",
   "execution_count": 5,
   "id": "e2e616a0",
   "metadata": {},
   "outputs": [],
   "source": [
    "import pandas as pd\n",
    "df = pd.read_csv('../data/Loan-Approval-Prediction.csv')\n",
    "df = df.drop('Loan_ID', axis=1)\n",
    "df = df.dropna()\n",
    "df.to_csv('../data/Loan-Approval_clean.csv')"
   ]
  }
 ],
 "metadata": {
  "kernelspec": {
   "display_name": "Python 3 (ipykernel)",
   "language": "python",
   "name": "python3"
  },
  "language_info": {
   "codemirror_mode": {
    "name": "ipython",
    "version": 3
   },
   "file_extension": ".py",
   "mimetype": "text/x-python",
   "name": "python",
   "nbconvert_exporter": "python",
   "pygments_lexer": "ipython3",
   "version": "3.9.12"
  }
 },
 "nbformat": 4,
 "nbformat_minor": 5
}
